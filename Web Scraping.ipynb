{
  "nbformat": 4,
  "nbformat_minor": 0,
  "metadata": {
    "colab": {
      "name": "Web Scraping.ipynb",
      "provenance": []
    },
    "kernelspec": {
      "display_name": "Python 3",
      "language": "python",
      "name": "python3"
    },
    "language_info": {
      "codemirror_mode": {
        "name": "ipython",
        "version": 3
      },
      "file_extension": ".py",
      "mimetype": "text/x-python",
      "name": "python",
      "nbconvert_exporter": "python",
      "pygments_lexer": "ipython3",
      "version": "3.7.3"
    }
  },
  "cells": [
    {
      "cell_type": "markdown",
      "metadata": {
        "id": "apZntKb-U1yX"
      },
      "source": [
        "# <font color=green>1. MEU PRIMEIRO SCRAPING"
      ]
    },
    {
      "cell_type": "markdown",
      "metadata": {
        "id": "ffzWkYcLU1yZ"
      },
      "source": [
        "# 1.1. Introdução"
      ]
    },
    {
      "cell_type": "markdown",
      "metadata": {
        "id": "-PcK0UzBU1yZ"
      },
      "source": [
        "## *Web Scraping* é o termo utilizado para definir a prática de coletar automaticamente informações na Internet. Isto é feito, geralmente, por meio de programas que simulam a navegação humana na Web."
      ]
    },
    {
      "cell_type": "markdown",
      "metadata": {
        "id": "9YYKioa9U1yZ"
      },
      "source": [
        "# 1.2. Ambiente e bibliotecas\n",
        "### Utilizaremos em nosso treinamento o navegador Google Chrome"
      ]
    },
    {
      "cell_type": "code",
      "metadata": {
        "colab": {
          "base_uri": "https://localhost:8080/"
        },
        "id": "e9pXIMIWByAp",
        "outputId": "65626c90-6a3b-44e4-caaa-51df9eacd46b"
      },
      "source": [
        "import bs4\n",
        "import urllib.request as urllib_request\n",
        "import pandas\n",
        "\n",
        "print(\"BeautifulSoup ->\", bs4.__version__)\n",
        "print(\"urllib ->\", urllib_request.__version__)\n",
        "print(\"pandas ->\", pandas.__version__)"
      ],
      "execution_count": 1,
      "outputs": [
        {
          "output_type": "stream",
          "text": [
            "BeautifulSoup -> 4.6.3\n",
            "urllib -> 3.7\n",
            "pandas -> 1.1.5\n"
          ],
          "name": "stdout"
        }
      ]
    },
    {
      "cell_type": "markdown",
      "metadata": {
        "id": "w2yfC5spU1ya"
      },
      "source": [
        "# 1.3. Meu primeiro scraping"
      ]
    },
    {
      "cell_type": "code",
      "metadata": {
        "colab": {
          "base_uri": "https://localhost:8080/"
        },
        "id": "owuYhXmCU1yb",
        "outputId": "fca9c377-5e4e-4b7e-ae10-246eb51713ff"
      },
      "source": [
        "from urllib.request import urlopen\n",
        "from bs4 import BeautifulSoup\n",
        "\n",
        "url = 'https://alura-site-scraping.herokuapp.com/hello-world.php'\n",
        "\n",
        "response = urlopen(url)\n",
        "html = response.read()\n",
        "\n",
        "html"
      ],
      "execution_count": 3,
      "outputs": [
        {
          "output_type": "execute_result",
          "data": {
            "text/plain": [
              "b'<!DOCTYPE html>\\r\\n<html lang=\"pt-br\">\\r\\n<head>\\r\\n    <meta charset=\"utf-8\">\\r\\n    <meta name=\"viewport\" content=\"width=device-width, initial-scale=1, shrink-to-fit=no\">\\r\\n\\r\\n    <title>Alura Motors</title>\\r\\n\\t<link rel=\"stylesheet\" href=\"https://maxcdn.bootstrapcdn.com/bootstrap/3.3.7/css/bootstrap.min.css\" integrity=\"sha384-BVYiiSIFeK1dGmJRAkycuHAHRg32OmUcww7on3RYdg4Va+PmSTsz/K68vbdEjh4u\" crossorigin=\"anonymous\">\\r\\n\\t<link rel=\"stylesheet\" href=\"css/styles.css\" media=\"all\">\\r\\n\\r\\n\\t<script src=\"https://code.jquery.com/jquery-1.12.4.js\"></script>\\r\\n\\t<script src=\"https://maxcdn.bootstrapcdn.com/bootstrap/3.3.7/js/bootstrap.min.js\" integrity=\"sha384-Tc5IQib027qvyjSMfHjOMaLkfuWVxZxUPnCJA7l2mCWNIpG9mGCD8wGNIcPD7Txa\" crossorigin=\"anonymous\"></script>\\r\\n\\t<script type=\"text/javascript\" src=\"js/index.js\"></script>\\r\\n\\r\\n</head>\\r\\n<body cz-shortcut-listen=\"true\">\\r\\n    <noscript>You need to enable JavaScript to run this app.</noscript>\\r\\n\\r\\n    <div id=\"root\">\\r\\n        <header>\\r\\n            <nav class=\"navbar navbar-inverse\" style=\"margin-bottom: 0;\">\\r\\n                <div class=\"container\" style=\"margin-bottom: -20px;\">\\r\\n                    <div class=\"navbar\">\\r\\n                        <a href=\"./index.php\" class=\"navbar-brand\" title=\"Alura Motors\">\\r\\n                            <img src=\"img/alura-logo.svg\" class=\"d-inline-block align-top\" alt=\"Alura\">Motors\\r\\n                        </a>\\r\\n                        <ul class=\"nav navbar-nav\" style=\"margin-top: 35px;\">\\r\\n                            <li><a href=\"./hello-world.php\">Hello World</a></li>\\r\\n                            <li><a href=\"./index.php\">An\\xc3\\xbancios</a></li>\\r\\n                        </ul>\\r\\n                    </div>\\r\\n                </div>\\r\\n            </nav>\\r\\n        </header>\\r\\n\\r\\n\\t\\t<div class=\"container\">\\r\\n\\t\\t\\t<h1 class=\"sub-header\">Curso de Web Scraping</h1>\\r\\n\\t\\t\\t<div class=\"row\">\\r\\n\\t\\t\\t\\t<div class=\"col-md-12\">\\r\\n\\t\\t\\t\\t\\t<div class=\"container\" style=\"width: 100%;\">\\r\\n                <h1 id=\"hello-world\">Hello World!!!</h1>\\r\\n                <p class=\"definition\"><b>Web Scraping</b> \\xc3\\xa9 o termo utilizado para definir a pr\\xc3\\xa1tica de coletar automaticamente informa\\xc3\\xa7\\xc3\\xb5es na Internet. Isto \\xc3\\xa9 feito, geralmente, por meio de programas que simulam a navega\\xc3\\xa7\\xc3\\xa3o humana na Web.</p>\\r\\n\\t\\t\\t\\t\\t</div>\\r\\n\\t\\t\\t\\t</div>\\r\\n\\t\\t\\t</div>\\r\\n\\t\\t</div>\\r\\n\\r\\n\\t\\t<footer id=\"footer\">\\r\\n\\t\\t\\t<nav class=\"navbar navbar-inverse\">\\r\\n\\t\\t\\t\\t<div class=\"container\" style=\"margin-bottom: 10px;\">\\r\\n\\t\\t\\t\\t\\t<div class=\"navbar\">\\r\\n\\t\\t\\t\\t\\t\\t<a href=\"./index.php\" class=\"navbar-brand\" title=\"Alura Motors\">\\r\\n\\t\\t\\t\\t\\t\\t\\t<img src=\"img/alura-logo.svg\" class=\"d-inline-block align-top\" alt=\"Alura\">Motors\\r\\n\\t\\t\\t\\t\\t\\t</a>\\r\\n\\t\\t\\t\\t\\t\\t<p style=\"color: #fff; text-align: center; margin-top: 40px;\">Aplica\\xc3\\xa7\\xc3\\xa3o para treinamento de web scraping</p>\\r\\n\\t\\t\\t\\t\\t</div>\\r\\n\\t\\t\\t\\t</div>\\r\\n\\t\\t\\t</nav>\\r\\n   </footer>\\r\\n\\r\\n\\t</div>\\r\\n\\r\\n</body>\\r\\n</html>\\r\\n'"
            ]
          },
          "metadata": {
            "tags": []
          },
          "execution_count": 3
        }
      ]
    },
    {
      "cell_type": "code",
      "metadata": {
        "colab": {
          "base_uri": "https://localhost:8080/"
        },
        "id": "Y3L6K9qBXL0Y",
        "outputId": "c9d31344-fd7e-499f-f7cd-c4651940bd47"
      },
      "source": [
        "soup = BeautifulSoup(html, 'html.parser')\n",
        "print(soup.find('h1', id=\"hello-world\").get_text())\n",
        "print(soup.find('p').get_text())"
      ],
      "execution_count": 6,
      "outputs": [
        {
          "output_type": "stream",
          "text": [
            "Hello World!!!\n",
            "Web Scraping é o termo utilizado para definir a prática de coletar automaticamente informações na Internet. Isto é feito, geralmente, por meio de programas que simulam a navegação humana na Web.\n"
          ],
          "name": "stdout"
        }
      ]
    },
    {
      "cell_type": "markdown",
      "metadata": {
        "id": "Ewen46oQU1yb"
      },
      "source": [
        "---\n",
        "# <font color=green>2. OBTENDO E TRATANDO O CONTEÚDO DE UM HTML"
      ]
    },
    {
      "cell_type": "markdown",
      "metadata": {
        "id": "YDUqnJjgU1yb"
      },
      "source": [
        "# 2.1. Entendendo a web"
      ]
    },
    {
      "cell_type": "markdown",
      "metadata": {
        "id": "mKYqOfQWU1yb"
      },
      "source": [
        "<img src=\"./web/web.png\" width=\"700\">"
      ]
    },
    {
      "cell_type": "markdown",
      "metadata": {
        "id": "_L2grcw0U1yc"
      },
      "source": [
        "# 2.2. Obtendo o conteúdo HTML de um site"
      ]
    },
    {
      "cell_type": "markdown",
      "metadata": {
        "id": "QA_31FtZU1yc"
      },
      "source": [
        "# urllib.request\n",
        "## https://docs.python.org/3/library/urllib.html"
      ]
    },
    {
      "cell_type": "code",
      "metadata": {
        "id": "c1pKGnTpgvFU"
      },
      "source": [
        ""
      ],
      "execution_count": null,
      "outputs": []
    },
    {
      "cell_type": "markdown",
      "metadata": {
        "id": "DZvqiGKuU1yc"
      },
      "source": [
        "## https://docs.python.org/3/library/urllib.request.html#urllib.request.Request"
      ]
    },
    {
      "cell_type": "code",
      "metadata": {
        "id": "LlxneoEuU1yd"
      },
      "source": [
        ""
      ],
      "execution_count": null,
      "outputs": []
    },
    {
      "cell_type": "markdown",
      "metadata": {
        "id": "pX8tA4CcU1yd"
      },
      "source": [
        "# 2.3. Tratamento de string"
      ]
    },
    {
      "cell_type": "code",
      "metadata": {
        "id": "o9iCUrpzU1yd"
      },
      "source": [
        ""
      ],
      "execution_count": null,
      "outputs": []
    },
    {
      "cell_type": "markdown",
      "metadata": {
        "id": "MDHSLRFxU1yd"
      },
      "source": [
        "### Convertando o tipo bytes para string"
      ]
    },
    {
      "cell_type": "code",
      "metadata": {
        "id": "Ovk7HXgDU1yd"
      },
      "source": [
        ""
      ],
      "execution_count": null,
      "outputs": []
    },
    {
      "cell_type": "code",
      "metadata": {
        "id": "qfC6eKjLU1ye"
      },
      "source": [
        ""
      ],
      "execution_count": null,
      "outputs": []
    },
    {
      "cell_type": "code",
      "metadata": {
        "id": "lC1e615PU1ye"
      },
      "source": [
        ""
      ],
      "execution_count": null,
      "outputs": []
    },
    {
      "cell_type": "code",
      "metadata": {
        "id": "UrvbZI0SU1ye"
      },
      "source": [
        ""
      ],
      "execution_count": null,
      "outputs": []
    },
    {
      "cell_type": "markdown",
      "metadata": {
        "id": "dJLUqWUbU1ye"
      },
      "source": [
        "### Eliminando os caracteres de tabulação, quebra de linha etc."
      ]
    },
    {
      "cell_type": "code",
      "metadata": {
        "id": "mN3MXSd1U1ye"
      },
      "source": [
        ""
      ],
      "execution_count": null,
      "outputs": []
    },
    {
      "cell_type": "code",
      "metadata": {
        "scrolled": true,
        "id": "w7OEGNBdU1ye"
      },
      "source": [
        ""
      ],
      "execution_count": null,
      "outputs": []
    },
    {
      "cell_type": "markdown",
      "metadata": {
        "id": "NPuNAhqzU1ye"
      },
      "source": [
        "### Eliminando os espaços em branco entre as TAGS"
      ]
    },
    {
      "cell_type": "code",
      "metadata": {
        "scrolled": true,
        "id": "ADPQrVfjU1ye"
      },
      "source": [
        ""
      ],
      "execution_count": null,
      "outputs": []
    },
    {
      "cell_type": "markdown",
      "metadata": {
        "id": "T6Bhl27xU1yf"
      },
      "source": [
        "### Função de tratamento de strings"
      ]
    },
    {
      "cell_type": "code",
      "metadata": {
        "id": "y3KdXqC4U1yf"
      },
      "source": [
        ""
      ],
      "execution_count": null,
      "outputs": []
    },
    {
      "cell_type": "code",
      "metadata": {
        "id": "jorKm9qFU1yf"
      },
      "source": [
        ""
      ],
      "execution_count": null,
      "outputs": []
    },
    {
      "cell_type": "code",
      "metadata": {
        "scrolled": true,
        "id": "sOvUB79aU1yf"
      },
      "source": [
        ""
      ],
      "execution_count": null,
      "outputs": []
    },
    {
      "cell_type": "code",
      "metadata": {
        "id": "BsfhL3sZFRZu"
      },
      "source": [
        "---\n",
        "# <font color=green>3. INTRODUÇÃO AO BEAUTIFULSOUP"
      ],
      "execution_count": null,
      "outputs": []
    },
    {
      "cell_type": "code",
      "metadata": {
        "id": "w_g8VQLUU1yf"
      },
      "source": [
        "# 3.1. HTML da nossa página"
      ],
      "execution_count": null,
      "outputs": []
    },
    {
      "cell_type": "markdown",
      "metadata": {
        "id": "ceI9sanjU1yf"
      },
      "source": [
        "**HTML** (*HyperText Markup Language*) é uma linguagem de marcação composta por **tags** que deteminam o papel que cada parte do documento vai assumir. As **tags** são formadas pelo seu nome e atributos. Os atributos servem para configurar e também modificar as características padrões de uma **tag**.\n",
        "\n",
        "## Estrutura básica\n",
        "\n",
        "```html\n",
        "<html>\n",
        "    <head>\n",
        "        <meta charset=\"utf-8\" />\n",
        "        <title>Alura Motors</title>\n",
        "    </head>\n",
        "    <body>\n",
        "        <div id=\"container\">\n",
        "            <h1>Alura</h1>\n",
        "            <h2 class=\"formato\">Cursos de Tecnologia</h2>\n",
        "            <p>Você vai estudar, praticar, discutir e aprender.</p>\n",
        "            <a href=\"https://www.alura.com.br/\">Clique aqui</a>\n",
        "        </div>\n",
        "    </body>\n",
        "</html>\n",
        "```\n",
        "\n",
        "```<html>``` - determina o início do documento.\n",
        "\n",
        "```<head>``` - cabeçalho. Contém informações e configurações do documento.\n",
        "\n",
        "```<body>``` - é o corpo do documento, onde todo o conteúdo é colocado. Esta é a parte visível em um navegador.\n",
        "\n",
        "## Tags mais comuns\n",
        "\n",
        "```<div>``` - define uma divisão da página. Pode ser formatada de diversas maneiras.\n",
        "\n",
        "```<h1>, <h2>, <h3>, <h4>, <h5>, <h6>``` - marcadores de títulos.\n",
        "\n",
        "```<p>``` - marcador de parágrafo.\n",
        "\n",
        "```<a>``` - hiperlink.\n",
        "\n",
        "```<img>``` - exibição de imagens.\n",
        "\n",
        "```<table>``` - definição de tabelas.\n",
        "\n",
        "```<ul>, <li>``` - definição de listas.\n"
      ]
    },
    {
      "cell_type": "markdown",
      "metadata": {
        "id": "PoQCuzJ9U1yg"
      },
      "source": [
        "# 3.2. Criando um objeto BeautifulSoup"
      ]
    },
    {
      "cell_type": "markdown",
      "metadata": {
        "id": "-5iU-HtXU1yg"
      },
      "source": [
        "## https://www.crummy.com/software/BeautifulSoup/\n",
        "\n",
        "### Sobre parser ver: https://www.crummy.com/software/BeautifulSoup/bs4/doc/#parser-installation"
      ]
    },
    {
      "cell_type": "code",
      "metadata": {
        "id": "5Oxx_d0BCWGa",
        "scrolled": true
      },
      "source": [
        ""
      ],
      "execution_count": null,
      "outputs": []
    },
    {
      "cell_type": "code",
      "metadata": {
        "scrolled": true,
        "id": "7GMcGhq3U1yg"
      },
      "source": [
        ""
      ],
      "execution_count": null,
      "outputs": []
    },
    {
      "cell_type": "markdown",
      "metadata": {
        "id": "TjX8vw92U1yg"
      },
      "source": [
        "# 3.3. Acessando tags"
      ]
    },
    {
      "cell_type": "code",
      "metadata": {
        "scrolled": true,
        "id": "3UgzF3cPU1yh"
      },
      "source": [
        ""
      ],
      "execution_count": null,
      "outputs": []
    },
    {
      "cell_type": "code",
      "metadata": {
        "scrolled": true,
        "id": "A1Ibs7p_U1yh"
      },
      "source": [
        ""
      ],
      "execution_count": null,
      "outputs": []
    },
    {
      "cell_type": "code",
      "metadata": {
        "id": "r3Gfg2eTU1yh"
      },
      "source": [
        ""
      ],
      "execution_count": null,
      "outputs": []
    },
    {
      "cell_type": "code",
      "metadata": {
        "id": "zCAi1DgEU1yh"
      },
      "source": [
        ""
      ],
      "execution_count": null,
      "outputs": []
    },
    {
      "cell_type": "code",
      "metadata": {
        "id": "9QqBPGVEU1yh"
      },
      "source": [
        ""
      ],
      "execution_count": null,
      "outputs": []
    },
    {
      "cell_type": "markdown",
      "metadata": {
        "id": "fItgpzU9U1yh"
      },
      "source": [
        "# 3.4. Acessando o conteúdo das tags"
      ]
    },
    {
      "cell_type": "code",
      "metadata": {
        "id": "EUmVn9EcU1yh"
      },
      "source": [
        ""
      ],
      "execution_count": null,
      "outputs": []
    },
    {
      "cell_type": "code",
      "metadata": {
        "id": "JON5G8ZuU1yh"
      },
      "source": [
        ""
      ],
      "execution_count": null,
      "outputs": []
    },
    {
      "cell_type": "code",
      "metadata": {
        "id": "q1ZicD_hU1yi"
      },
      "source": [
        ""
      ],
      "execution_count": null,
      "outputs": []
    },
    {
      "cell_type": "code",
      "metadata": {
        "id": "xp7ueUOqU1yi"
      },
      "source": [
        ""
      ],
      "execution_count": null,
      "outputs": []
    },
    {
      "cell_type": "code",
      "metadata": {
        "id": "OO2h230LU1yi"
      },
      "source": [
        ""
      ],
      "execution_count": null,
      "outputs": []
    },
    {
      "cell_type": "markdown",
      "metadata": {
        "id": "SMmZlsB7U1yi"
      },
      "source": [
        "# 3.5. Acessando os atributos de uma tag"
      ]
    },
    {
      "cell_type": "code",
      "metadata": {
        "id": "yA2FKj2CU1yi"
      },
      "source": [
        ""
      ],
      "execution_count": null,
      "outputs": []
    },
    {
      "cell_type": "code",
      "metadata": {
        "id": "zMhpVsEAU1yi"
      },
      "source": [
        ""
      ],
      "execution_count": null,
      "outputs": []
    },
    {
      "cell_type": "code",
      "metadata": {
        "id": "-1y7p1RVU1yi"
      },
      "source": [
        ""
      ],
      "execution_count": null,
      "outputs": []
    },
    {
      "cell_type": "code",
      "metadata": {
        "id": "Y4YX0i-AU1yi"
      },
      "source": [
        ""
      ],
      "execution_count": null,
      "outputs": []
    },
    {
      "cell_type": "code",
      "metadata": {
        "id": "m7C3VWA6U1yi"
      },
      "source": [
        ""
      ],
      "execution_count": null,
      "outputs": []
    },
    {
      "cell_type": "code",
      "metadata": {
        "id": "6EDbREjCU1yj"
      },
      "source": [
        ""
      ],
      "execution_count": null,
      "outputs": []
    },
    {
      "cell_type": "markdown",
      "metadata": {
        "id": "kYJY73s-U1yj"
      },
      "source": [
        "---\n",
        "# <font color=green>4. PESQUISANDO COM O BEAUTIFULSOUP"
      ]
    },
    {
      "cell_type": "markdown",
      "metadata": {
        "id": "8Y1LPKRQU1yj"
      },
      "source": [
        "# 4.1. Os métodos *find()* e *findAll()*"
      ]
    },
    {
      "cell_type": "markdown",
      "metadata": {
        "id": "araItRqSU1yj"
      },
      "source": [
        "- ### *find(tag, attributes, recursive, text, **kwargs)*\n",
        "\n",
        "- ### *findAll(tag, attributes, recursive, text, limit, **kwargs)*\n",
        "\n",
        "#### https://www.crummy.com/software/BeautifulSoup/bs4/doc/#find\n",
        "#### https://www.crummy.com/software/BeautifulSoup/bs4/doc/#find-all\n",
        "\n",
        "> **Observação:**\n",
        "> - *findAll()* também pode ser utilizado como *find_all()*"
      ]
    },
    {
      "cell_type": "markdown",
      "metadata": {
        "id": "U1RzH0QoU1yj"
      },
      "source": [
        "### Método *find()*"
      ]
    },
    {
      "cell_type": "code",
      "metadata": {
        "id": "Ec22FygrU1yj"
      },
      "source": [
        ""
      ],
      "execution_count": null,
      "outputs": []
    },
    {
      "cell_type": "code",
      "metadata": {
        "id": "3l1XPG2EU1yj"
      },
      "source": [
        ""
      ],
      "execution_count": null,
      "outputs": []
    },
    {
      "cell_type": "markdown",
      "metadata": {
        "id": "08cIgTdWU1yk"
      },
      "source": [
        "### Método *findAll()*"
      ]
    },
    {
      "cell_type": "code",
      "metadata": {
        "id": "NnknVLfzU1yk"
      },
      "source": [
        ""
      ],
      "execution_count": null,
      "outputs": []
    },
    {
      "cell_type": "markdown",
      "metadata": {
        "id": "tao-Of6pU1yk"
      },
      "source": [
        "### Comando equivalente ao método *find()*"
      ]
    },
    {
      "cell_type": "code",
      "metadata": {
        "id": "ny-bZrOtU1yk"
      },
      "source": [
        ""
      ],
      "execution_count": null,
      "outputs": []
    },
    {
      "cell_type": "markdown",
      "metadata": {
        "id": "a7XfMJ7BU1yk"
      },
      "source": [
        "### Atalho para o método *findAll()*"
      ]
    },
    {
      "cell_type": "code",
      "metadata": {
        "id": "vAsbDDoEU1yk"
      },
      "source": [
        ""
      ],
      "execution_count": null,
      "outputs": []
    },
    {
      "cell_type": "markdown",
      "metadata": {
        "id": "J8eoSO5FU1yk"
      },
      "source": [
        "### Passando listas de TAGs"
      ]
    },
    {
      "cell_type": "code",
      "metadata": {
        "id": "NP5jdQNUU1yl"
      },
      "source": [
        ""
      ],
      "execution_count": null,
      "outputs": []
    },
    {
      "cell_type": "markdown",
      "metadata": {
        "id": "n5LuT9KfU1yl"
      },
      "source": [
        "### Utilizando o argumento *attributes*"
      ]
    },
    {
      "cell_type": "code",
      "metadata": {
        "scrolled": true,
        "id": "wx85sCa_U1yl"
      },
      "source": [
        ""
      ],
      "execution_count": null,
      "outputs": []
    },
    {
      "cell_type": "markdown",
      "metadata": {
        "id": "d7vJ6jueU1yl"
      },
      "source": [
        "### Buscando por conteúdo de uma TAG"
      ]
    },
    {
      "cell_type": "code",
      "metadata": {
        "id": "Of1vTn5_U1yl"
      },
      "source": [
        ""
      ],
      "execution_count": null,
      "outputs": []
    },
    {
      "cell_type": "markdown",
      "metadata": {
        "id": "SZGUK0e0U1yl"
      },
      "source": [
        "### Utilizando diretamente os atributos"
      ]
    },
    {
      "cell_type": "code",
      "metadata": {
        "id": "nhXknXU-U1yl"
      },
      "source": [
        ""
      ],
      "execution_count": null,
      "outputs": []
    },
    {
      "cell_type": "code",
      "metadata": {
        "id": "6y0G-rxuU1yl"
      },
      "source": [
        ""
      ],
      "execution_count": null,
      "outputs": []
    },
    {
      "cell_type": "markdown",
      "metadata": {
        "id": "vveluZeuU1ym"
      },
      "source": [
        "### Cuidado com o atributo \"class\""
      ]
    },
    {
      "cell_type": "code",
      "metadata": {
        "id": "5vJ8hSFxU1ym"
      },
      "source": [
        ""
      ],
      "execution_count": null,
      "outputs": []
    },
    {
      "cell_type": "markdown",
      "metadata": {
        "id": "DkUszWTyU1ym"
      },
      "source": [
        "### Obtendo todo o conteúdo de texto de uma página"
      ]
    },
    {
      "cell_type": "code",
      "metadata": {
        "id": "XIMts5cfU1ym"
      },
      "source": [
        ""
      ],
      "execution_count": null,
      "outputs": []
    },
    {
      "cell_type": "markdown",
      "metadata": {
        "id": "cj66K4Y7U1ym"
      },
      "source": [
        "# 4.2. Outros métodos de pesquisa"
      ]
    },
    {
      "cell_type": "markdown",
      "metadata": {
        "id": "vkwb4Y6KU1ym"
      },
      "source": [
        "- ### *findParent(tag, attributes, text, **kwargs)*\n",
        "\n",
        "- ### *findParents(tag, attributes, text, limit, **kwargs)*\n",
        "\n",
        "#### https://www.crummy.com/software/BeautifulSoup/bs4/doc/#find-parents-and-find-parent\n",
        "\n",
        "> **Observação:**\n",
        "> - *findParent()* e *findParents()* também podem ser utilizados como *find_parent()* e *find_parents()*, respectivamente.\n",
        "---\n",
        "- ### *findNextSibling(tag, attributes, text, **kwargs)*\n",
        "\n",
        "- ### *findNextSiblings(tag, attributes, text, limit, **kwargs)*\n",
        "\n",
        "- ### *findPreviousSibling(tag, attributes, text, **kwargs)*\n",
        "\n",
        "- ### *findPreviousSiblings(tag, attributes, text, limit, **kwargs)*\n",
        "\n",
        "#### https://www.crummy.com/software/BeautifulSoup/bs4/doc/#find-next-siblings-and-find-next-sibling\n",
        "#### https://www.crummy.com/software/BeautifulSoup/bs4/doc/#find-previous-siblings-and-find-previous-sibling\n",
        "\n",
        "> **Observação:**\n",
        "> - *findNextSibling()*, *findNextSiblings()*, *findPreviousSibling()* e *findPreviousSiblings()* também podem ser utilizados como *find_next_sibling()*, *find_next_siblings()*, *find_previous_sibling()* e *find_previous_siblings()*, respectivamente.\n",
        "---\n",
        "- ### *findNext(tag, attributes, text, **kwargs)*\n",
        "\n",
        "- ### *findAllNext(tag, attributes, text, limit, **kwargs)*\n",
        "\n",
        "- ### *findPrevious(tag, attributes, text, **kwargs)*\n",
        "\n",
        "- ### *findAllPrevious(tag, attributes, text, limit, **kwargs)*\n",
        "\n",
        "#### https://www.crummy.com/software/BeautifulSoup/bs4/doc/#find-all-next-and-find-next\n",
        "#### https://www.crummy.com/software/BeautifulSoup/bs4/doc/#find-all-previous-and-find-previous\n",
        "\n",
        "> **Observação:**\n",
        "> - *findNext()*, *findAllNext()*, *findPrevious* e *findAllPrevious* também podem ser utilizados como *find_next()*, *find_all_next()*, *find_previous()* e *find_all_previous()*, respectivamente."
      ]
    },
    {
      "cell_type": "markdown",
      "metadata": {
        "id": "EjGjT-1AU1yn"
      },
      "source": [
        "## HTML de exemplo para ilustrar a utilização dos métodos de pesquisa do BeautifulSoup"
      ]
    },
    {
      "cell_type": "markdown",
      "metadata": {
        "id": "zH4QRX3yU1yn"
      },
      "source": [
        "<img src=\"https://caelum-online-public.s3.amazonaws.com/1381-scraping/01/BeautifulSoup-method.png\" width=80%>"
      ]
    },
    {
      "cell_type": "markdown",
      "metadata": {
        "id": "swrhPT2RU1yn"
      },
      "source": [
        "---\n",
        "## Resultado"
      ]
    },
    {
      "cell_type": "markdown",
      "metadata": {
        "id": "qFUTsYIVU1yn"
      },
      "source": [
        "<html>\n",
        "    <body>\n",
        "        <div id=“container-a”>\n",
        "            <h1>Título A</h1>\n",
        "            <h2 class=\"ref-a\">Sub título A</h2>\n",
        "            <p>Texto de conteúdo A</p>\n",
        "        </div>\n",
        "        <div id=“container-b”>\n",
        "            <h1>Título B</h1>\n",
        "            <h2 class=\"ref-b\">Sub título B</h2>\n",
        "            <p>Texto de conteúdo B</p>\n",
        "        </div>\n",
        "    </body>\n",
        "</html>"
      ]
    },
    {
      "cell_type": "code",
      "metadata": {
        "id": "I8ZG3l_vU1yo"
      },
      "source": [
        ""
      ],
      "execution_count": null,
      "outputs": []
    },
    {
      "cell_type": "markdown",
      "metadata": {
        "id": "lVKEBeyJU1yo"
      },
      "source": [
        "### Tratamentos para a string HTML"
      ]
    },
    {
      "cell_type": "code",
      "metadata": {
        "id": "FAZkMutDU1yo"
      },
      "source": [
        ""
      ],
      "execution_count": null,
      "outputs": []
    },
    {
      "cell_type": "code",
      "metadata": {
        "id": "YIqtEeplU1yo"
      },
      "source": [
        ""
      ],
      "execution_count": null,
      "outputs": []
    },
    {
      "cell_type": "markdown",
      "metadata": {
        "id": "p9DPrb6hU1yo"
      },
      "source": [
        "### Criando o objeto BeautifulSoup"
      ]
    },
    {
      "cell_type": "code",
      "metadata": {
        "scrolled": true,
        "id": "LqOX7B5oU1yo"
      },
      "source": [
        ""
      ],
      "execution_count": null,
      "outputs": []
    },
    {
      "cell_type": "markdown",
      "metadata": {
        "id": "0rwv54BIU1yp"
      },
      "source": [
        "### Parents"
      ]
    },
    {
      "cell_type": "code",
      "metadata": {
        "id": "EpxzFHg1U1yp"
      },
      "source": [
        ""
      ],
      "execution_count": null,
      "outputs": []
    },
    {
      "cell_type": "code",
      "metadata": {
        "id": "zq9UuQjyU1yp"
      },
      "source": [
        ""
      ],
      "execution_count": null,
      "outputs": []
    },
    {
      "cell_type": "code",
      "metadata": {
        "id": "7rpx0OC9U1yp"
      },
      "source": [
        ""
      ],
      "execution_count": null,
      "outputs": []
    },
    {
      "cell_type": "code",
      "metadata": {
        "id": "cGwMJl3KU1yp"
      },
      "source": [
        ""
      ],
      "execution_count": null,
      "outputs": []
    },
    {
      "cell_type": "code",
      "metadata": {
        "id": "wrSMq67AU1yp"
      },
      "source": [
        ""
      ],
      "execution_count": null,
      "outputs": []
    },
    {
      "cell_type": "markdown",
      "metadata": {
        "id": "0vebZoAcU1yp"
      },
      "source": [
        "## Siblings"
      ]
    },
    {
      "cell_type": "code",
      "metadata": {
        "id": "fq6zSSAbU1yp"
      },
      "source": [
        ""
      ],
      "execution_count": null,
      "outputs": []
    },
    {
      "cell_type": "code",
      "metadata": {
        "id": "ORkREmbkU1yq"
      },
      "source": [
        ""
      ],
      "execution_count": null,
      "outputs": []
    },
    {
      "cell_type": "code",
      "metadata": {
        "id": "yToA7GcXU1yq"
      },
      "source": [
        ""
      ],
      "execution_count": null,
      "outputs": []
    },
    {
      "cell_type": "markdown",
      "metadata": {
        "id": "137BmdIcU1yq"
      },
      "source": [
        "## Next e Previous"
      ]
    },
    {
      "cell_type": "code",
      "metadata": {
        "id": "I9QMK4qBU1yq"
      },
      "source": [
        ""
      ],
      "execution_count": null,
      "outputs": []
    },
    {
      "cell_type": "code",
      "metadata": {
        "id": "rfGudrQzU1yq"
      },
      "source": [
        ""
      ],
      "execution_count": null,
      "outputs": []
    },
    {
      "cell_type": "code",
      "metadata": {
        "id": "aX3EoCrdU1yq"
      },
      "source": [
        ""
      ],
      "execution_count": null,
      "outputs": []
    },
    {
      "cell_type": "markdown",
      "metadata": {
        "id": "sbc_TzQoU1yq"
      },
      "source": [
        "# <font color=green>5. WEB SCRAPING DO SITE ALURA MOTORS - OBTENDO OS DADOS DE UM ANÚNCIO"
      ]
    },
    {
      "cell_type": "markdown",
      "metadata": {
        "id": "cwzj9i7oU1yq"
      },
      "source": [
        "# 5.1. Identificando e selecionando os dados no HTML"
      ]
    },
    {
      "cell_type": "markdown",
      "metadata": {
        "id": "PH6ErUsMU1yr"
      },
      "source": [
        "### Obtendo o HTML e criando o objeto BeautifulSoup"
      ]
    },
    {
      "cell_type": "code",
      "metadata": {
        "id": "QxpOdUcXU1yr"
      },
      "source": [
        ""
      ],
      "execution_count": null,
      "outputs": []
    },
    {
      "cell_type": "markdown",
      "metadata": {
        "id": "NxhG6C6rU1yr"
      },
      "source": [
        "### Criando variávels para armazenar informações"
      ]
    },
    {
      "cell_type": "code",
      "metadata": {
        "id": "Pn9McuvnU1yr"
      },
      "source": [
        ""
      ],
      "execution_count": null,
      "outputs": []
    },
    {
      "cell_type": "markdown",
      "metadata": {
        "id": "ai6BOdabU1yr"
      },
      "source": [
        "### Obtendo os dados do primeiro CARD"
      ]
    },
    {
      "cell_type": "code",
      "metadata": {
        "scrolled": false,
        "id": "AR5T8CyqU1yr"
      },
      "source": [
        ""
      ],
      "execution_count": null,
      "outputs": []
    },
    {
      "cell_type": "markdown",
      "metadata": {
        "id": "3q0-5CExU1yr"
      },
      "source": [
        "# 5.2. Obtendo o VALOR do veículo anunciado"
      ]
    },
    {
      "cell_type": "code",
      "metadata": {
        "id": "cN6M-8EKU1yr"
      },
      "source": [
        ""
      ],
      "execution_count": null,
      "outputs": []
    },
    {
      "cell_type": "code",
      "metadata": {
        "id": "DJvHV9HwU1ys"
      },
      "source": [
        ""
      ],
      "execution_count": null,
      "outputs": []
    },
    {
      "cell_type": "code",
      "metadata": {
        "id": "eK4AEe_wU1ys"
      },
      "source": [
        ""
      ],
      "execution_count": null,
      "outputs": []
    },
    {
      "cell_type": "code",
      "metadata": {
        "id": "tT5PAx7kU1ys"
      },
      "source": [
        ""
      ],
      "execution_count": null,
      "outputs": []
    },
    {
      "cell_type": "code",
      "metadata": {
        "id": "nRd5Qb60U1ys"
      },
      "source": [
        ""
      ],
      "execution_count": null,
      "outputs": []
    },
    {
      "cell_type": "markdown",
      "metadata": {
        "id": "r89IXJoJU1ys"
      },
      "source": [
        "### <font color=red>Resumo"
      ]
    },
    {
      "cell_type": "code",
      "metadata": {
        "id": "hZLR0ic-U1ys"
      },
      "source": [
        "# Valor\n"
      ],
      "execution_count": null,
      "outputs": []
    },
    {
      "cell_type": "markdown",
      "metadata": {
        "id": "-2QaZkb8U1yt"
      },
      "source": [
        "# 5.3. Obtendo as INFORMAÇÕES sobre o veículo anunciado"
      ]
    },
    {
      "cell_type": "code",
      "metadata": {
        "id": "EsDvnvF7U1yt"
      },
      "source": [
        ""
      ],
      "execution_count": null,
      "outputs": []
    },
    {
      "cell_type": "code",
      "metadata": {
        "id": "o_q6qkVgU1yt"
      },
      "source": [
        ""
      ],
      "execution_count": null,
      "outputs": []
    },
    {
      "cell_type": "code",
      "metadata": {
        "id": "fy5Z9HouU1yt"
      },
      "source": [
        ""
      ],
      "execution_count": null,
      "outputs": []
    },
    {
      "cell_type": "code",
      "metadata": {
        "id": "DYt9VnJyU1yt"
      },
      "source": [
        ""
      ],
      "execution_count": null,
      "outputs": []
    },
    {
      "cell_type": "code",
      "metadata": {
        "id": "4KUTWPXFU1yt"
      },
      "source": [
        ""
      ],
      "execution_count": null,
      "outputs": []
    },
    {
      "cell_type": "code",
      "metadata": {
        "id": "EKUUuisgU1yt"
      },
      "source": [
        ""
      ],
      "execution_count": null,
      "outputs": []
    },
    {
      "cell_type": "code",
      "metadata": {
        "id": "GK_yB2LAU1yt"
      },
      "source": [
        ""
      ],
      "execution_count": null,
      "outputs": []
    },
    {
      "cell_type": "code",
      "metadata": {
        "id": "2luTxTuZU1yu"
      },
      "source": [
        ""
      ],
      "execution_count": null,
      "outputs": []
    },
    {
      "cell_type": "markdown",
      "metadata": {
        "id": "9DxWU7jkU1yu"
      },
      "source": [
        "### <font color=red>Resumo"
      ]
    },
    {
      "cell_type": "code",
      "metadata": {
        "id": "-gMvpDxjU1yu"
      },
      "source": [
        "# Informações\n"
      ],
      "execution_count": null,
      "outputs": []
    },
    {
      "cell_type": "markdown",
      "metadata": {
        "id": "2hU1LK6UU1yu"
      },
      "source": [
        "# 5.4. Obtendo os ACESSÓRIOS do veículo anunciado"
      ]
    },
    {
      "cell_type": "code",
      "metadata": {
        "id": "83LQ_rCfU1yu"
      },
      "source": [
        ""
      ],
      "execution_count": null,
      "outputs": []
    },
    {
      "cell_type": "code",
      "metadata": {
        "id": "VPu2gwRQU1yu"
      },
      "source": [
        ""
      ],
      "execution_count": null,
      "outputs": []
    },
    {
      "cell_type": "code",
      "metadata": {
        "id": "DH69XXz1U1yu"
      },
      "source": [
        ""
      ],
      "execution_count": null,
      "outputs": []
    },
    {
      "cell_type": "code",
      "metadata": {
        "id": "Q1gv-0rBU1yu"
      },
      "source": [
        ""
      ],
      "execution_count": null,
      "outputs": []
    },
    {
      "cell_type": "code",
      "metadata": {
        "id": "ESewD_jFU1yv"
      },
      "source": [
        ""
      ],
      "execution_count": null,
      "outputs": []
    },
    {
      "cell_type": "code",
      "metadata": {
        "id": "u-kQgVZFU1yv"
      },
      "source": [
        ""
      ],
      "execution_count": null,
      "outputs": []
    },
    {
      "cell_type": "code",
      "metadata": {
        "id": "nIxhxZ9rU1yv"
      },
      "source": [
        ""
      ],
      "execution_count": null,
      "outputs": []
    },
    {
      "cell_type": "code",
      "metadata": {
        "id": "Axg-095AU1yv"
      },
      "source": [
        ""
      ],
      "execution_count": null,
      "outputs": []
    },
    {
      "cell_type": "markdown",
      "metadata": {
        "id": "5KLST9GtU1yv"
      },
      "source": [
        "### <font color=red>Resumo"
      ]
    },
    {
      "cell_type": "code",
      "metadata": {
        "id": "TBiEBz7KU1yv"
      },
      "source": [
        "# Acessórios\n"
      ],
      "execution_count": null,
      "outputs": []
    },
    {
      "cell_type": "markdown",
      "metadata": {
        "id": "YJhPmkT8U1yv"
      },
      "source": [
        "# 5.5 Criando um DataFrame com os dados coletados do Alura Motors"
      ]
    },
    {
      "cell_type": "code",
      "metadata": {
        "id": "Mk2Sz4TDU1yw"
      },
      "source": [
        ""
      ],
      "execution_count": null,
      "outputs": []
    },
    {
      "cell_type": "code",
      "metadata": {
        "id": "IpKXc8jAU1yw"
      },
      "source": [
        ""
      ],
      "execution_count": null,
      "outputs": []
    },
    {
      "cell_type": "code",
      "metadata": {
        "id": "9_HAqHX9U1yw"
      },
      "source": [
        ""
      ],
      "execution_count": null,
      "outputs": []
    },
    {
      "cell_type": "code",
      "metadata": {
        "id": "jRB7QV8ZU1yw"
      },
      "source": [
        ""
      ],
      "execution_count": null,
      "outputs": []
    },
    {
      "cell_type": "code",
      "metadata": {
        "id": "YfEyP5KHU1yw"
      },
      "source": [
        ""
      ],
      "execution_count": null,
      "outputs": []
    },
    {
      "cell_type": "code",
      "metadata": {
        "id": "6ty4w9VUU1yw"
      },
      "source": [
        ""
      ],
      "execution_count": null,
      "outputs": []
    },
    {
      "cell_type": "code",
      "metadata": {
        "id": "Y4OM-cGKU1yw"
      },
      "source": [
        ""
      ],
      "execution_count": null,
      "outputs": []
    },
    {
      "cell_type": "code",
      "metadata": {
        "id": "Aij1NIQpU1yw"
      },
      "source": [
        ""
      ],
      "execution_count": null,
      "outputs": []
    },
    {
      "cell_type": "markdown",
      "metadata": {
        "id": "AVKG11xKU1yw"
      },
      "source": [
        "# 5.6. Obtendo a FOTO do anúncio"
      ]
    },
    {
      "cell_type": "code",
      "metadata": {
        "id": "P5FitZRhU1yx"
      },
      "source": [
        ""
      ],
      "execution_count": null,
      "outputs": []
    },
    {
      "cell_type": "code",
      "metadata": {
        "id": "CdGnGLGvU1yx"
      },
      "source": [
        ""
      ],
      "execution_count": null,
      "outputs": []
    },
    {
      "cell_type": "code",
      "metadata": {
        "id": "_Q67-zpqU1yx"
      },
      "source": [
        ""
      ],
      "execution_count": null,
      "outputs": []
    },
    {
      "cell_type": "markdown",
      "metadata": {
        "id": "NNa7OBHqU1yx"
      },
      "source": [
        "### Visualizando a FOTO no notebook (extra)"
      ]
    },
    {
      "cell_type": "code",
      "metadata": {
        "id": "EbO-bo5zU1yx"
      },
      "source": [
        ""
      ],
      "execution_count": null,
      "outputs": []
    },
    {
      "cell_type": "code",
      "metadata": {
        "id": "z6NcYFXAU1yx"
      },
      "source": [
        ""
      ],
      "execution_count": null,
      "outputs": []
    },
    {
      "cell_type": "markdown",
      "metadata": {
        "id": "CJjU3b6SU1yx"
      },
      "source": [
        "### Rotina para acessar e salvar a FOTO do anúncio"
      ]
    },
    {
      "cell_type": "markdown",
      "metadata": {
        "id": "S_iJH9LGU1yy"
      },
      "source": [
        "## https://docs.python.org/3/library/urllib.request.html#urllib.request.urlretrieve"
      ]
    },
    {
      "cell_type": "code",
      "metadata": {
        "id": "vA16U3JyU1yy"
      },
      "source": [
        ""
      ],
      "execution_count": null,
      "outputs": []
    },
    {
      "cell_type": "code",
      "metadata": {
        "id": "KOFzvmxjU1yy"
      },
      "source": [
        ""
      ],
      "execution_count": null,
      "outputs": []
    },
    {
      "cell_type": "markdown",
      "metadata": {
        "id": "Wz2RSJ2WU1yy"
      },
      "source": [
        "### <font color=red>Resumo"
      ]
    },
    {
      "cell_type": "code",
      "metadata": {
        "id": "WwuGJehmU1yy"
      },
      "source": [
        ""
      ],
      "execution_count": null,
      "outputs": []
    },
    {
      "cell_type": "markdown",
      "metadata": {
        "id": "cQiAhUC0U1yy"
      },
      "source": [
        "# <font color=green>6. WEB SCRAPING DO SITE ALURA MOTORS - OBTENDO OS DADOS DE TODOS OS ANÚNCIOS DE UMA PÁGINA"
      ]
    },
    {
      "cell_type": "markdown",
      "metadata": {
        "id": "B4blbsSIU1yy"
      },
      "source": [
        "# 6.1. Identificando as informações no HTML"
      ]
    },
    {
      "cell_type": "code",
      "metadata": {
        "scrolled": true,
        "id": "CB-5kXN8U1yy"
      },
      "source": [
        ""
      ],
      "execution_count": null,
      "outputs": []
    },
    {
      "cell_type": "code",
      "metadata": {
        "scrolled": true,
        "id": "p2lq2BRDU1yz"
      },
      "source": [
        ""
      ],
      "execution_count": null,
      "outputs": []
    },
    {
      "cell_type": "code",
      "metadata": {
        "scrolled": true,
        "id": "7Je81b5DU1yz"
      },
      "source": [
        ""
      ],
      "execution_count": null,
      "outputs": []
    },
    {
      "cell_type": "markdown",
      "metadata": {
        "id": "o1vnwlAQU1yz"
      },
      "source": [
        "# 6.2. Criando uma rotina de scraping"
      ]
    },
    {
      "cell_type": "code",
      "metadata": {
        "id": "oZt1YvBvU1yz"
      },
      "source": [
        ""
      ],
      "execution_count": null,
      "outputs": []
    },
    {
      "cell_type": "code",
      "metadata": {
        "id": "yebVdIhWU1yz"
      },
      "source": [
        ""
      ],
      "execution_count": null,
      "outputs": []
    },
    {
      "cell_type": "markdown",
      "metadata": {
        "id": "WwJRwHyLU1yz"
      },
      "source": [
        "# <font color=green>7. WEB SCRAPING DO SITE ALURA MOTORS - OBTENDO OS DADOS DE TODOS OS ANÚNCIOS DO SITE"
      ]
    },
    {
      "cell_type": "markdown",
      "metadata": {
        "id": "rin6rjtLU1yz"
      },
      "source": [
        "# 7.1. Identificando as informações no HTML"
      ]
    },
    {
      "cell_type": "code",
      "metadata": {
        "id": "3mhk8p5UU1yz"
      },
      "source": [
        ""
      ],
      "execution_count": null,
      "outputs": []
    },
    {
      "cell_type": "code",
      "metadata": {
        "scrolled": true,
        "id": "R0xUPPusU1yz"
      },
      "source": [
        ""
      ],
      "execution_count": null,
      "outputs": []
    },
    {
      "cell_type": "code",
      "metadata": {
        "id": "94DoufmXU1y0"
      },
      "source": [
        ""
      ],
      "execution_count": null,
      "outputs": []
    },
    {
      "cell_type": "code",
      "metadata": {
        "id": "CqYqDhYSU1y0"
      },
      "source": [
        ""
      ],
      "execution_count": null,
      "outputs": []
    },
    {
      "cell_type": "code",
      "metadata": {
        "id": "7dtVpsBPU1y0"
      },
      "source": [
        ""
      ],
      "execution_count": null,
      "outputs": []
    },
    {
      "cell_type": "markdown",
      "metadata": {
        "id": "cPjkeL6hU1y0"
      },
      "source": [
        "# 7.2. Criando uma rotina de scraping"
      ]
    },
    {
      "cell_type": "code",
      "metadata": {
        "scrolled": true,
        "id": "9ADxIE3nU1y0"
      },
      "source": [
        ""
      ],
      "execution_count": null,
      "outputs": []
    },
    {
      "cell_type": "code",
      "metadata": {
        "id": "4UKF4wluU1y0"
      },
      "source": [
        ""
      ],
      "execution_count": null,
      "outputs": []
    },
    {
      "cell_type": "code",
      "metadata": {
        "id": "8q4tyBNNU1y0"
      },
      "source": [
        ""
      ],
      "execution_count": null,
      "outputs": []
    },
    {
      "cell_type": "code",
      "metadata": {
        "id": "lEdRoWibU1y0"
      },
      "source": [
        ""
      ],
      "execution_count": null,
      "outputs": []
    }
  ]
}